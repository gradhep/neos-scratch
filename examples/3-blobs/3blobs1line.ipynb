{
 "cells": [
  {
   "cell_type": "code",
   "execution_count": 1,
   "metadata": {},
   "outputs": [],
   "source": [
    "import jax\n",
    "import jax.numpy as jnp\n",
    "import matplotlib.pyplot as plt\n",
    "import numpy as np\n",
    "import pyhf\n",
    "\n",
    "jax.config.update(\"jax_enable_x64\", True)\n",
    "\n",
    "from maker import yield_maker\n",
    "from model import simplemodel2\n",
    "from relaxed import infer"
   ]
  },
  {
   "cell_type": "code",
   "execution_count": 2,
   "metadata": {},
   "outputs": [],
   "source": [
    "SCALE = 10000\n",
    "\n",
    "N = 270 * SCALE\n",
    "\n",
    "\n",
    "def generate_data():\n",
    "    b1 = np.random.multivariate_normal([+1.0, +0.0], np.eye(2), size=N // 4)\n",
    "    b2 = np.random.multivariate_normal([+0.0, +0.0], np.eye(2), size=N // 4)\n",
    "    b3 = np.random.multivariate_normal([-1.0, -0.0], np.eye(2), size=N // 4)\n",
    "\n",
    "    s1 = np.random.multivariate_normal([3.0, 0.0], np.eye(2), size=N // 16)\n",
    "\n",
    "    return s1, b1, b2, b3\n",
    "\n",
    "\n",
    "anchr = jnp.array([0.0, 0.0])\n",
    "data = generate_data()"
   ]
  },
  {
   "cell_type": "code",
   "execution_count": 3,
   "metadata": {},
   "outputs": [],
   "source": [
    "model_maker = yield_maker(generate_data, SCALE=SCALE)\n",
    "hypotest = infer.make_hypotest(model_maker)\n",
    "hypotest(0.2, test_mu=1.0)\n",
    "\n",
    "\n",
    "def loss(angle):\n",
    "    return hypotest(angle, 1.0)[\"CLs\"]"
   ]
  },
  {
   "cell_type": "code",
   "execution_count": 8,
   "metadata": {},
   "outputs": [
    {
     "name": "stdout",
     "output_type": "stream",
     "text": [
      "0.05305988616695312 0.1\n",
      "0.04848244200532714 0.5485391823656456\n",
      "0.047844370258609104 0.47319937202280915\n",
      "0.04733885295088047 0.40842898951869416\n",
      "0.0470905152264911 0.35253638007428584\n",
      "0.04708664014490038 0.3443631915611514\n",
      "0.047086685829110575 0.3432861403372706\n",
      "0.047086706581292326 0.34308331513785795\n",
      "0.04708670385924463 0.3430416010333968\n",
      "0.047086705961601805 0.3430237772724\n",
      "0.04708670640267565 0.3430200727759364\n",
      "0.04708670649459035 0.3430193022998358\n",
      "0.047086706513720156 0.34301914203014366\n",
      "0.04708670651770008 0.3430191086908455\n",
      "0.04708670651852542 0.34301910175555966\n",
      "0.04708670651869906 0.3430191003128427\n",
      "0.04708670651873326 0.3430191000127898\n",
      "0.04708670651873992 0.34301909995032465\n",
      "0.04708670651874458 0.34301909993735147\n",
      "0.04708670651874414 0.34301909993460733\n",
      "0.04708670651874303 0.3430190999340521\n",
      "0.047086706518743915 0.34301909993393154\n",
      "0.04708670651874369 0.3430190999339101\n",
      "0.04708670651874236 0.34301909993391905\n",
      "0.047086706518742805 0.34301909993390034\n",
      "0.04708670651874347 0.3430190999339082\n",
      "0.04708670651874258 0.34301909993389057\n",
      "0.04708670651874436 0.3430190999339004\n",
      "0.047086706518741916 0.34301909993391416\n",
      "0.047086706518742805 0.34301909993388824\n",
      "0.04708670651874347 0.34301909993390345\n",
      "0.04708670651874103 0.3430190999339116\n",
      "0.04708670651874369 0.34301909993390395\n",
      "0.04708670651874436 0.3430190999339004\n",
      "0.047086706518741916 0.34301909993391416\n",
      "0.047086706518742805 0.34301909993388824\n",
      "0.04708670651874347 0.34301909993390345\n",
      "0.04708670651874103 0.3430190999339116\n",
      "0.04708670651874369 0.34301909993390395\n",
      "0.04708670651874436 0.3430190999339004\n",
      "0.047086706518741916 0.34301909993391416\n",
      "0.047086706518742805 0.34301909993388824\n",
      "0.04708670651874347 0.34301909993390345\n",
      "0.04708670651874103 0.3430190999339116\n",
      "0.04708670651874369 0.34301909993390395\n",
      "0.04708670651874436 0.3430190999339004\n",
      "0.047086706518741916 0.34301909993391416\n",
      "0.047086706518742805 0.34301909993388824\n",
      "0.04708670651874347 0.34301909993390345\n",
      "0.04708670651874103 0.3430190999339116\n"
     ]
    }
   ],
   "source": [
    "def grad_descent(current_angle, lr=2):\n",
    "    current_cls, grad = jax.value_and_grad(loss)(current_angle)\n",
    "    angle = current_angle - grad * lr\n",
    "    return angle, current_angle, current_cls, grad\n",
    "\n",
    "\n",
    "x = 0.1\n",
    "for i in range(50):\n",
    "    x, current_x, cls, grad = grad_descent(x, lr=8)\n",
    "    print(cls, current_x)"
   ]
  },
  {
   "cell_type": "code",
   "execution_count": 9,
   "metadata": {},
   "outputs": [],
   "source": [
    "angles = jnp.linspace(0, jnp.pi / 2.0, 51)\n",
    "r1 = jax.vmap(loss)(angles)"
   ]
  },
  {
   "cell_type": "code",
   "execution_count": 10,
   "metadata": {},
   "outputs": [
    {
     "name": "stdout",
     "output_type": "stream",
     "text": [
      "0.34557519189487723 0.04700435831901695\n"
     ]
    },
    {
     "data": {
      "text/plain": "<matplotlib.legend.Legend at 0x7fba857f9070>"
     },
     "execution_count": 10,
     "metadata": {},
     "output_type": "execute_result"
    },
    {
     "data": {
      "image/png": "[encoded data removed]",
      "text/plain": "<Figure size 432x288 with 1 Axes>"
     },
     "metadata": {
      "needs_background": "light"
     },
     "output_type": "display_data"
    }
   ],
   "source": [
    "plt.plot(angles, r1)\n",
    "plt.scatter(angles[np.argmin(r1)], r1[np.argmin(r1)])\n",
    "print(angles[np.argmin(r1)], r1[np.argmin(r1)])\n",
    "plt.hlines(0.05, 0, jnp.pi / 2.0, colors=\"r\", linestyles=\"dashed\")\n",
    "plt.vlines(x, 0, 0.1, linestyles=\"dashed\", colors=\"C9\", label=\"learned\")\n",
    "plt.ylim(0.0, 0.1)\n",
    "plt.legend()\n",
    "# plt.xlim(0, jnp.pi / 2.0)"
   ]
  },
  {
   "cell_type": "code",
   "execution_count": null,
   "metadata": {},
   "outputs": [],
   "source": []
  },
  {
   "cell_type": "code",
   "execution_count": null,
   "metadata": {},
   "outputs": [],
   "source": []
  }
 ],
 "metadata": {
  "interpreter": {
   "hash": "0d5819b7d08fc7dde509ce2ba3d91b8dccd7c5ea0a1bf8d0f7c305391472c3c2"
  },
  "kernelspec": {
   "display_name": "Python 3.8.3 64-bit ('venv': venv)",
   "name": "neos-scratch"
  },
  "language_info": {
   "name": "python",
   "version": ""
  },
  "metadata": {
   "interpreter": {
    "hash": "693a187c49923ab5606cf510ee36738c5209c69f1741fe3687f93b66f1706a52"
   }
  },
  "orig_nbformat": 2
 },
 "nbformat": 4,
 "nbformat_minor": 2
}
