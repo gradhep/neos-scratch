{
 "cells": [
  {
   "cell_type": "code",
   "execution_count": 2,
   "metadata": {},
   "outputs": [],
   "source": [
    "from functools import partial\n",
    "\n",
    "import jax\n",
    "import jax.numpy as jnp\n",
    "import matplotlib.pyplot as plt\n",
    "import numpy as np\n",
    "from jax.random import PRNGKey\n",
    "\n",
    "jax.config.update(\"jax_enable_x64\", True)\n",
    "\n",
    "from maker import get_model, yield_maker\n",
    "from relaxed import infer\n",
    "\n",
    "plt.rc(\"figure\", figsize=(10.0, 6.0), dpi=120, facecolor=\"w\")"
   ]
  },
  {
   "cell_type": "code",
   "execution_count": 1,
   "metadata": {},
   "outputs": [],
   "source": [
    "from functools import partial\n",
    "\n",
    "import jax\n",
    "import jax.numpy as jnp\n",
    "import matplotlib.pyplot as plt\n",
    "import numpy as np\n",
    "from jax.random import PRNGKey\n",
    "\n",
    "jax.config.update(\"jax_enable_x64\", True)\n",
    "\n",
    "from maker import get_model, yield_maker\n",
    "from relaxed import infer\n",
    "\n",
    "plt.rc(\"figure\", figsize=(10.0, 6.0), dpi=120, facecolor=\"w\")"
   ]
  },
  {
   "cell_type": "code",
   "execution_count": 2,
   "metadata": {},
   "outputs": [
    {
     "data": {
      "text/plain": [
       "DeviceArray([4.17737466, 0.54657334, 2.03176818, ..., 4.02444665,\n",
       "             2.09741342, 2.88617482], dtype=float64)"
      ]
     },
     "execution_count": 2,
     "metadata": {},
     "output_type": "execute_result"
    }
   ],
   "source": [
    "SCALE = 10000\n",
    "\n",
    "N = 270 * SCALE\n",
    "\n",
    "\n",
    "def generate_data(key):\n",
    "    b1 = jax.random.multivariate_normal(\n",
    "        key, jnp.array([+1.0, +0.0]), np.eye(2), shape=(N // 4,)\n",
    "    )\n",
    "    b2 = jax.random.multivariate_normal(\n",
    "        key, jnp.array([+0.0, +0.0]), np.eye(2), shape=(N // 4,)\n",
    "    )\n",
    "    b3 = jax.random.multivariate_normal(\n",
    "        key, jnp.array([-1.0, -0.0]), np.eye(2), shape=(N // 4,)\n",
    "    )\n",
    "\n",
    "    s1 = jax.random.multivariate_normal(\n",
    "        key, jnp.array([3.0, 0.0]), np.eye(2), shape=(N // 16,)\n",
    "    )\n",
    "\n",
    "    return s1, b1, b2, b3\n",
    "\n",
    "\n",
    "generate_data(PRNGKey(3))[0] @ jnp.array([1, 1])"
   ]
  },
  {
   "cell_type": "code",
   "execution_count": 22,
   "metadata": {},
   "outputs": [
    {
     "data": {
      "text/plain": [
       "{'CLs': DeviceArray(0.04837478, dtype=float64)}"
      ]
     },
     "execution_count": 22,
     "metadata": {},
     "output_type": "execute_result"
    }
   ],
   "source": [
    "bins = np.asarray([-5, 0, 5])\n",
    "\n",
    "yields = yield_maker(generate_data, bins=bins, SCALE=SCALE)\n",
    "model_maker = get_model(yields)\n",
    "hypotest = infer.make_hypotest(model_maker)\n",
    "hypotest([0.2, 0.2], model_kwargs=dict(key=PRNGKey(3)), test_mu=1.0)"
   ]
  },
  {
   "cell_type": "code",
   "execution_count": 4,
   "metadata": {},
   "outputs": [],
   "source": [
    "def loss_fn(params, model_kwargs):\n",
    "    return hypotest(params, model_kwargs=model_kwargs, test_mu=1.0)[\"CLs\"]\n",
    "\n",
    "\n",
    "def grad_descent(current_params, loss, lr=2):\n",
    "    current_cls, grad = jax.value_and_grad(loss)(current_params)\n",
    "    params = current_params - grad * lr\n",
    "    return params, current_params, current_cls, grad"
   ]
  },
  {
   "cell_type": "code",
   "execution_count": null,
   "metadata": {},
   "outputs": [],
   "source": []
  },
  {
   "cell_type": "markdown",
   "metadata": {},
   "source": [
    "without plotting:"
   ]
  },
  {
   "cell_type": "code",
   "execution_count": 5,
   "metadata": {},
   "outputs": [
    {
     "name": "stdout",
     "output_type": "stream",
     "text": [
      "0.052979535802949895 [0.1 0.1]\n",
      "0.047763292362864807 [0.54738631 0.10113828]\n"
     ]
    }
   ],
   "source": [
    "x = jnp.array([0.1, 0.1])\n",
    "new_key = PRNGKey(3)\n",
    "for i in range(2):\n",
    "    new_key, subkey = jax.random.split(new_key)\n",
    "    loss = partial(loss_fn, model_kwargs=dict(key=subkey))\n",
    "    x, current_x, cls, grad = grad_descent(x, loss, lr=8)\n",
    "    print(cls, current_x)"
   ]
  },
  {
   "cell_type": "markdown",
   "metadata": {},
   "source": [
    "With plotting!"
   ]
  },
  {
   "cell_type": "code",
   "execution_count": 30,
   "metadata": {},
   "outputs": [],
   "source": [
    "data = {\n",
    "    \"Data space\": [],\n",
    "    \"Training trajectory\": [],\n",
    "    \"Histogram model\": [],\n",
    "    \"CLs per epoch\": [],\n",
    "}\n",
    "\n",
    "\n",
    "def plot_data_space(ax, params, key):\n",
    "    angle, anchr = params\n",
    "\n",
    "    anchr = jnp.array([anchr, 0.0])\n",
    "\n",
    "    s1, b1, b2, b3 = generate_data(key)\n",
    "    ax.scatter(b1[:, 0], b1[:, 1], alpha=0.2, color=\"C0\")\n",
    "    ax.scatter(b2[:, 0], b2[:, 1], alpha=0.2, color=\"slategrey\")\n",
    "    ax.scatter(b3[:, 0], b3[:, 1], alpha=0.2, color=\"slategrey\")\n",
    "    ax.scatter(s1[:, 0], s1[:, 1], alpha=0.2, color=\"C1\")\n",
    "\n",
    "    ax.scatter(anchr[0], anchr[1])\n",
    "    for angle in [0.0, jnp.pi / 4, jnp.pi / 2]:\n",
    "\n",
    "        direc = jnp.array([jnp.cos(angle), jnp.sin(angle)])\n",
    "        normal = jnp.array([jnp.cos(angle + jnp.pi / 2), jnp.sin(angle + jnp.pi / 2)])\n",
    "\n",
    "        lp = jax.vmap(lambda alpha: anchr + alpha * direc)(jnp.linspace(-5, 5))\n",
    "        ax.plot(lp[:, 0], lp[:, 1], c=\"k\")\n",
    "\n",
    "    t = np.stack([anchr, anchr + normal])\n",
    "    ax.plot(t[:, 0], t[:, 1], c=\"yellow\")\n",
    "    ax.set_xlim(-5, 5)\n",
    "    ax.set_ylim(-5, 5)\n",
    "\n",
    "\n",
    "def plot_training(ax, angle, anchr, cls):\n",
    "    ax.plot(angle, anchr, cls, color=\"C6\")\n",
    "\n",
    "\n",
    "def plot_cls(ax, epoch, cls):\n",
    "    ax.plot(epoch, cls, color=\"C9\")\n",
    "\n",
    "\n",
    "def plot_hist(ax, params, key):\n",
    "    ns1, nb1, nb2, nb3 = yields(params, key)\n",
    "    centres = (bins[1:] + bins[:-1]) / 2\n",
    "    bin_width = bins[1] - bins[0]\n",
    "    ax.bar(centres, nb1, width=bin_width, color=\"C0\")\n",
    "    ax.bar(centres, ns1, bottom=nb1, width=bin_width, color=\"C1\")\n",
    "    ax.bar(centres, nb2, alpha=0.4, color=\"slategrey\", width=bin_width)\n",
    "    ax.bar(centres, nb3, alpha=0.4, color=\"slategrey\", width=bin_width)"
   ]
  },
  {
   "cell_type": "code",
   "execution_count": 31,
   "metadata": {},
   "outputs": [],
   "source": [
    "def plot_epoch(axs, data, key):\n",
    "\n",
    "    label = \"Data space\"\n",
    "    plot_data_space(axs[label], data[label], key)\n",
    "\n",
    "    label = \"Training trajectory\"\n",
    "    all_data = np.asarray(data[label]).T\n",
    "    plot_training(axs[label], *all_data)\n",
    "\n",
    "    label = \"Histogram model\"\n",
    "    plot_hist(axs[label], data[label], key)\n",
    "\n",
    "    label = \"CLs per epoch\"\n",
    "    all_data = np.asarray(data[label]).T\n",
    "    plot_cls(axs[label], *all_data)"
   ]
  },
  {
   "cell_type": "code",
   "execution_count": 32,
   "metadata": {},
   "outputs": [],
   "source": [
    "fig, axs = plt.subplot_mosaic(\n",
    "    [[\"Data space\", \"Training trajectory\"], [\"Histogram model\", \"CLs per epoch\"]]\n",
    ")\n",
    "\n",
    "ss = axs[\"Training trajectory\"].get_subplotspec()\n",
    "axs[\"Training trajectory\"].remove()\n",
    "axs[\"Training trajectory\"] = fig.add_subplot(ss, projection=\"3d\")\n",
    "\n",
    "for label, ax in axs.items():\n",
    "    ax.set_title(label, fontstyle=\"italic\")\n",
    "axs[\"Training trajectory\"].set_xlabel(\"angle (rad)\")\n",
    "axs[\"Training trajectory\"].set_ylabel(\"line anchor (x-dir)\")\n",
    "axs[\"Data space\"].set_xlabel(\"x\")\n",
    "axs[\"Data space\"].set_ylabel(\"y\")\n",
    "axs[\"CLs per epoch\"].set_xlabel(\"epoch\")\n",
    "axs[\"CLs per epoch\"].set_ylabel(\"CLs\")\n",
    "plt.subplots_adjust(hspace=0.5, wspace=0.3)\n",
    "fig.set_constrained_layout(False)\n",
    "\n",
    "# training loop\n",
    "x = jnp.array([0.1, 0.1])\n",
    "new_key = PRNGKey(3)\n",
    "\n",
    "data[\"Data space\"].append([x, new_key])\n",
    "\n",
    "for i in range(2):\n",
    "    new_key, subkey = jax.random.split(new_key)\n",
    "    loss = partial(loss_fn, model_kwargs=dict(key=subkey))\n",
    "    x, current_x, cls, grad = grad_descent(x, loss, lr=8)\n",
    "\n",
    "    data[\"Data space\"] = x\n",
    "    data[\"Training trajectory\"].append([*x, cls])\n",
    "    data[\"CLs per epoch\"].append([i, cls])\n",
    "    data[\"Histogram model\"] = x\n",
    "\n",
    "    plot_epoch(axs, data, subkey)\n",
    "\n",
    "    print(cls, current_x)"
   ]
  },
  {
   "cell_type": "code",
   "execution_count": 29,
   "metadata": {},
   "outputs": [
    {
     "data": {
      "text/plain": [
       "array([-2.5,  2.5])"
      ]
     },
     "execution_count": 29,
     "metadata": {},
     "output_type": "execute_result"
    }
   ],
   "source": [
    "(bins[1:] + bins[:-1]) / 2"
   ]
  },
  {
   "cell_type": "code",
   "execution_count": null,
   "metadata": {},
   "outputs": [],
   "source": []
  }
 ],
 "metadata": {
  "interpreter": {
   "hash": "0d5819b7d08fc7dde509ce2ba3d91b8dccd7c5ea0a1bf8d0f7c305391472c3c2"
  },
  "kernelspec": {
   "display_name": "Python 3.8.3 64-bit ('aoc': venv)",
   "name": "python3"
  },
  "language_info": {
   "name": "python",
   "version": ""
  },
  "metadata": {
   "interpreter": {
    "hash": "693a187c49923ab5606cf510ee36738c5209c69f1741fe3687f93b66f1706a52"
   }
  },
  "orig_nbformat": 2
 },
 "nbformat": 4,
 "nbformat_minor": 2
}
