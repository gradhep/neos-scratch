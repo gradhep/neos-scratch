{
 "cells": [
  {
   "cell_type": "code",
   "execution_count": 8,
   "metadata": {},
   "outputs": [],
   "source": [
    "import jax\n",
    "import jax.numpy as jnp\n",
    "import matplotlib.pyplot as plt\n",
    "import numpy as np\n",
    "import pyhf\n",
    "\n",
    "jax.config.update(\"jax_enable_x64\", True)\n",
    "\n",
    "from maker import yield_maker\n",
    "from model import simplemodel2\n",
    "from relaxed import infer"
   ]
  },
  {
   "cell_type": "code",
   "execution_count": 9,
   "metadata": {},
   "outputs": [],
   "source": [
    "SCALE = 10000\n",
    "\n",
    "N = 270 * SCALE\n",
    "\n",
    "\n",
    "def generate_data():\n",
    "    b1 = np.random.multivariate_normal([+1.0, +0.0], np.eye(2), size=N // 4)\n",
    "    b2 = np.random.multivariate_normal([+0.0, +0.0], np.eye(2), size=N // 4)\n",
    "    b3 = np.random.multivariate_normal([-1.0, -0.0], np.eye(2), size=N // 4)\n",
    "\n",
    "    s1 = np.random.multivariate_normal([3.0, 0.0], np.eye(2), size=N // 16)\n",
    "\n",
    "    return s1, b1, b2, b3\n",
    "\n",
    "\n",
    "anchr = jnp.array([0.0, 0.0])\n",
    "data = generate_data()"
   ]
  },
  {
   "cell_type": "code",
   "execution_count": 15,
   "metadata": {},
   "outputs": [],
   "source": [
    "model_maker = yield_maker(generate_data, SCALE=SCALE)\n",
    "hypotest = infer.make_hypotest(model_maker)\n",
    "hypotest(0.2, test_mu=1.0)\n",
    "\n",
    "\n",
    "def loss(angle):\n",
    "    return hypotest(angle, 1.0)[\"CLs\"]"
   ]
  },
  {
   "cell_type": "code",
   "execution_count": 21,
   "metadata": {},
   "outputs": [
    {
     "name": "stdout",
     "output_type": "stream",
     "text": [
      "0.05689532731531499 0.0\n",
      "0.05683876766778995 0.01193287815516717\n",
      "0.05310925728573723 0.0994029429261221\n",
      "0.04852317777446258 0.5494062727388821\n",
      "0.04778728647915864 0.47046347553245643\n",
      "0.047328744843311066 0.4047987245277014\n",
      "0.04715604653870109 0.3607286044763486\n",
      "0.04713989991621359 0.3465407451552159\n",
      "0.047138496360982884 0.3423689611411049\n",
      "0.047138335035023626 0.340932226693426\n",
      "0.047138311703458724 0.34036676048047365\n",
      "0.04713831102419985 0.34013325953136686\n",
      "0.04713831127474544 0.34003626934677683\n",
      "0.04713831010071434 0.33999542309456005\n",
      "0.047138310276721995 0.33997739168310553\n",
      "0.04713831035820615 0.3399697658383085\n",
      "0.04713831039394223 0.33996653914588587\n",
      "0.04713831040929439 0.33996517356809036\n",
      "0.04713831041582983 0.3399645955877571\n",
      "0.04713831041860539 0.33996435094874444\n",
      "0.04713831041977823 0.33996424739992015\n",
      "0.04713831042027894 0.33996420357039947\n",
      "0.04713831042048877 0.3399641850183501\n",
      "0.04713831042057781 0.33996417716573085\n",
      "0.047138310420616 0.3399641738419315\n",
      "0.04713831042063288 0.3399641724350305\n",
      "0.047138310420638874 0.3399641718395497\n",
      "0.047138310420639984 0.33996417158750153\n",
      "0.04713831042064398 0.3399641714807381\n",
      "0.047138310420642204 0.3399641714355687\n",
      "0.04713831042064265 0.3399641714164941\n",
      "0.04713831042064265 0.3399641714083574\n",
      "0.04713831042064354 0.33996417140496027\n",
      "0.04713831042064309 0.3399641714035392\n",
      "0.04713831042064198 0.33996417140292395\n",
      "0.04713831042064309 0.339964171402667\n",
      "0.0471383104206442 0.33996417140255536\n",
      "0.0471383104206462 0.339964171402509\n",
      "0.04713831042064576 0.33996417140248975\n",
      "0.04713831042064398 0.33996417140247936\n",
      "0.0471383104206442 0.3399641714024771\n",
      "0.0471383104206442 0.3399641714024771\n",
      "0.0471383104206442 0.3399641714024771\n",
      "0.0471383104206442 0.3399641714024771\n",
      "0.0471383104206442 0.3399641714024771\n",
      "0.0471383104206442 0.3399641714024771\n",
      "0.0471383104206442 0.3399641714024771\n",
      "0.0471383104206442 0.3399641714024771\n",
      "0.0471383104206442 0.3399641714024771\n",
      "0.0471383104206442 0.3399641714024771\n"
     ]
    }
   ],
   "source": [
    "def grad_descent(current_angle, lr=2):\n",
    "    current_cls, grad = jax.value_and_grad(loss)(current_angle)\n",
    "    angle = current_angle - grad * lr\n",
    "    return angle, current_angle, current_cls, grad\n",
    "\n",
    "\n",
    "x = 0.0\n",
    "for i in range(50):\n",
    "    x, current_x, cls, grad = grad_descent(x, lr=8)\n",
    "    print(cls, current_x)"
   ]
  },
  {
   "cell_type": "code",
   "execution_count": 17,
   "metadata": {},
   "outputs": [],
   "source": [
    "angles = jnp.linspace(0, jnp.pi / 2.0, 51)\n",
    "r1 = jax.vmap(loss)(angles)"
   ]
  },
  {
   "cell_type": "code",
   "execution_count": 25,
   "metadata": {},
   "outputs": [
    {
     "name": "stdout",
     "output_type": "stream",
     "text": [
      "0.34557519189487723 0.04687543882321976\n"
     ]
    },
    {
     "data": {
      "text/plain": "<matplotlib.legend.Legend at 0x7fb231997700>"
     },
     "execution_count": 25,
     "metadata": {},
     "output_type": "execute_result"
    },
    {
     "data": {
      "image/png": "[encoded data removed]",
      "text/plain": "<Figure size 432x288 with 1 Axes>"
     },
     "metadata": {
      "needs_background": "light"
     },
     "output_type": "display_data"
    }
   ],
   "source": [
    "plt.plot(angles, r1)\n",
    "plt.scatter(angles[np.argmin(r1)], r1[np.argmin(r1)])\n",
    "print(angles[np.argmin(r1)], r1[np.argmin(r1)])\n",
    "plt.hlines(0.05, 0, jnp.pi / 2.0, colors=\"r\", linestyles=\"dashed\")\n",
    "plt.vlines(x, 0, 0.1, linestyles=\"dashed\", colors=\"C9\", label=\"learned\")\n",
    "plt.ylim(0.0, 0.1)\n",
    "plt.legend()\n",
    "# plt.xlim(0, jnp.pi / 2.0)"
   ]
  },
  {
   "cell_type": "code",
   "execution_count": null,
   "metadata": {},
   "outputs": [],
   "source": []
  },
  {
   "cell_type": "code",
   "execution_count": null,
   "metadata": {},
   "outputs": [],
   "source": []
  }
 ],
 "metadata": {
  "interpreter": {
   "hash": "0d5819b7d08fc7dde509ce2ba3d91b8dccd7c5ea0a1bf8d0f7c305391472c3c2"
  },
  "kernelspec": {
   "display_name": "Python 3.8.3 64-bit ('aoc': venv)",
   "name": "python3"
  },
  "language_info": {
   "name": "python",
   "version": ""
  },
  "metadata": {
   "interpreter": {
    "hash": "693a187c49923ab5606cf510ee36738c5209c69f1741fe3687f93b66f1706a52"
   }
  },
  "orig_nbformat": 2
 },
 "nbformat": 4,
 "nbformat_minor": 2
}
